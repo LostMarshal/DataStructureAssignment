{
 "cells": [
  {
   "cell_type": "markdown",
   "metadata": {},
   "source": [
    "# 11.4 Latihan"
   ]
  },
  {
   "cell_type": "code",
   "execution_count": 9,
   "metadata": {},
   "outputs": [
    {
     "name": "stdout",
     "output_type": "stream",
     "text": [
      "The base number is:  15\n",
      "The power number is:  3\n",
      "The result is:  3375\n"
     ]
    }
   ],
   "source": [
    "def power_recursion(a, b):\n",
    "    if b == 0:\n",
    "        return 1\n",
    "    elif b < 0:\n",
    "        return 1 / power_recursion(a, -b)\n",
    "    else:\n",
    "        return a * power_recursion(a, b - 1)\n",
    "\n",
    "a = int(input(\"Enter the base number: \"))\n",
    "print(\"The base number is: \", a)\n",
    "b = int(input(\"Enter the power number: \"))\n",
    "print(\"The power number is: \", b)\n",
    "print(\"The result is: \", power_recursion(a, b))"
   ]
  }
 ],
 "metadata": {
  "kernelspec": {
   "display_name": "Python 3",
   "language": "python",
   "name": "python3"
  },
  "language_info": {
   "codemirror_mode": {
    "name": "ipython",
    "version": 3
   },
   "file_extension": ".py",
   "mimetype": "text/x-python",
   "name": "python",
   "nbconvert_exporter": "python",
   "pygments_lexer": "ipython3",
   "version": "3.12.1"
  }
 },
 "nbformat": 4,
 "nbformat_minor": 2
}
