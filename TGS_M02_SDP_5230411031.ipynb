{
  "nbformat": 4,
  "nbformat_minor": 0,
  "metadata": {
    "colab": {
      "provenance": []
    },
    "kernelspec": {
      "name": "python3",
      "display_name": "Python 3"
    },
    "language_info": {
      "name": "python"
    }
  },
  "cells": [
    {
      "cell_type": "code",
      "execution_count": 13,
      "metadata": {
        "colab": {
          "base_uri": "https://localhost:8080/"
        },
        "id": "l2lnpBbm7XTe",
        "outputId": "75ae7ed7-1816-41a0-9341-a413d1fc5d1c"
      },
      "outputs": [
        {
          "output_type": "stream",
          "name": "stdout",
          "text": [
            "Total yang harus dibayar tiap bulan :  1,579,951 Rupiah\n",
            "Total yang harus dibayar:  37,918,837 Rupiah\n"
          ]
        }
      ],
      "source": [
        "def hitung_simulasi_kredit(harga_barang, uang_muka, bunga_tahunan, tahun_kredit):\n",
        "  jumlah_pinjaman = harga_barang - uang_muka\n",
        "\n",
        "  bunga_bulanan = (bunga_tahunan / 100) / 12\n",
        "\n",
        "  jumlah_cicilan_bulanan = jumlah_pinjaman * (bunga_bulanan / (1 - (1 + bunga_bulanan)**(-tahun_kredit * 12)))\n",
        "\n",
        "  total_pembayaran = jumlah_cicilan_bulanan * tahun_kredit * 12\n",
        "\n",
        "  print(\"Total yang harus dibayar tiap bulan : \", f'{int(jumlah_cicilan_bulanan):,}', \"Rupiah\")\n",
        "\n",
        "  return total_pembayaran\n",
        "\n",
        "harga_iphone = 32999000\n",
        "uang_muka = 5000000\n",
        "bunga_tahunan = 31\n",
        "tahun_kredit = 2\n",
        "\n",
        "total_pembayaran = hitung_simulasi_kredit(harga_iphone, uang_muka, bunga_tahunan, tahun_kredit)\n",
        "\n",
        "print(\"Total yang harus dibayar: \", f'{int(total_pembayaran):,}', \"Rupiah\")"
      ]
    }
  ]
}