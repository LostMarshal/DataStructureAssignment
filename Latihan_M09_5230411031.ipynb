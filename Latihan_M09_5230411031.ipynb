{
 "cells": [
  {
   "cell_type": "markdown",
   "metadata": {},
   "source": [
    "# 10.4 Latihan"
   ]
  },
  {
   "cell_type": "code",
   "execution_count": 6,
   "metadata": {},
   "outputs": [
    {
     "name": "stdout",
     "output_type": "stream",
     "text": [
      "Graph :\n",
      "82 : [27]\n",
      "27 : [82, 52]\n",
      "52 : [27, 18]\n",
      "18 : [52, 21, 44]\n",
      "21 : [18, 76, 44]\n",
      "76 : [21, 44]\n",
      "44 : [76, 18, 21]\n"
     ]
    }
   ],
   "source": [
    "class Graph:\n",
    "    def __init__(self):\n",
    "        self.adj_list = {}\n",
    "    \n",
    "    def print_graph(self):\n",
    "        for vertex in self.adj_list:\n",
    "            print(vertex, \":\", self.adj_list[vertex])\n",
    "\n",
    "    def add_vertex(self, vertex):\n",
    "        if vertex not in self.adj_list.keys():\n",
    "            self.adj_list[vertex] = []\n",
    "            return True\n",
    "        return False\n",
    "    \n",
    "    def add_edge(self, v1, v2):\n",
    "        if v1 in self.adj_list.keys() and v2 in self.adj_list.keys():\n",
    "            self.adj_list[v1].append(v2)\n",
    "            self.adj_list[v2].append(v1)\n",
    "            return True\n",
    "        return False\n",
    "    \n",
    "    def remove_edge(self, v1, v2):\n",
    "        if v1 in self.adj_list.keys() and v2 in self.adj_list.keys():\n",
    "            try:\n",
    "                self.adj_list[v1].remove(v2)\n",
    "                self.adj_list[v2].remove(v1)\n",
    "            except ValueError:\n",
    "                pass\n",
    "            return True\n",
    "        return False\n",
    "    \n",
    "    def remove_vertex(self, vertex):\n",
    "        if vertex in self.adj_list.keys():\n",
    "            for oter_vertex in self.adj_list[vertex]:\n",
    "                self.adj_list[oter_vertex].remove(vertex)\n",
    "            del self.adj_list[vertex]\n",
    "            return True\n",
    "        return False\n",
    "\n",
    "my_graph = Graph()\n",
    "my_graph.add_vertex(82)\n",
    "my_graph.add_vertex(27)\n",
    "my_graph.add_vertex(52)\n",
    "my_graph.add_vertex(18)\n",
    "my_graph.add_vertex(21)\n",
    "my_graph.add_vertex(76)\n",
    "my_graph.add_vertex(44)\n",
    "\n",
    "my_graph.add_edge(82, 27)\n",
    "my_graph.add_edge(27, 52)\n",
    "my_graph.add_edge(52, 18)\n",
    "my_graph.add_edge(18, 21)\n",
    "my_graph.add_edge(21, 76)\n",
    "my_graph.add_edge(76, 44)\n",
    "my_graph.add_edge(44, 18)\n",
    "my_graph.add_edge(44, 21)\n",
    "\n",
    "print('Graph :')\n",
    "my_graph.print_graph()"
   ]
  }
 ],
 "metadata": {
  "kernelspec": {
   "display_name": "Python 3",
   "language": "python",
   "name": "python3"
  },
  "language_info": {
   "codemirror_mode": {
    "name": "ipython",
    "version": 3
   },
   "file_extension": ".py",
   "mimetype": "text/x-python",
   "name": "python",
   "nbconvert_exporter": "python",
   "pygments_lexer": "ipython3",
   "version": "3.12.1"
  }
 },
 "nbformat": 4,
 "nbformat_minor": 2
}
