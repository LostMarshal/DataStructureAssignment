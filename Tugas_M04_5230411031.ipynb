{
 "cells": [
  {
   "cell_type": "code",
   "execution_count": 29,
   "metadata": {},
   "outputs": [
    {
     "name": "stdout",
     "output_type": "stream",
     "text": [
      "[1, 2, 3]\n",
      "(4, 5, 6)\n",
      "{8, 9, 7}\n",
      "\n",
      "List Pointer: 3027701670592\n",
      "Tuple Pointer: 3027701685376\n",
      "Set Pointer: 3027701176064\n",
      "\n",
      "After modification: \n",
      "[1, 2, 3, 4]\n",
      "(4, 5, 6, 7, 8, 9)\n",
      "{8, 9, 10, 7}\n",
      "\n",
      "List Pointer: 3027701670592\n",
      "Tuple Pointer: 3027701295584\n",
      "Set Pointer: 3027701176064\n",
      "\n",
      "After assignment: \n",
      "List1 Pointer: 3027701670592\n",
      "Tuple1 Pointer: 3027701295584\n",
      "Set1 Pointer: 3027701176064\n"
     ]
    }
   ],
   "source": [
    "my_list = [1, 2, 3]\n",
    "my_tuple = (4, 5, 6)\n",
    "my_set = {7, 8, 9}\n",
    "\n",
    "print(\"Before modification: \")\n",
    "print(my_list)\n",
    "print(my_tuple)\n",
    "print(my_set)\n",
    "\n",
    "print(\"\\nList Pointer:\", id(my_list))\n",
    "print(\"Tuple Pointer:\", id(my_tuple))\n",
    "print(\"Set Pointer:\", id(my_set))\n",
    "\n",
    "my_list.append(4)\n",
    "my_tuple += (7, 8, 9)\n",
    "my_set.add(10)\n",
    "\n",
    "print(\"\\nAfter modification: \")\n",
    "print(my_list)\n",
    "print(my_tuple)\n",
    "print(my_set)\n",
    "\n",
    "print(\"\\nList Pointer:\", id(my_list))\n",
    "print(\"Tuple Pointer:\", id(my_tuple))\n",
    "print(\"Set Pointer:\", id(my_set))\n",
    "\n",
    "my_list1 = my_list\n",
    "my_tuple1 = my_tuple\n",
    "my_set1 = my_set\n",
    "\n",
    "print(\"\\nAfter assignment: \")\n",
    "print(\"List1 Pointer:\", id(my_list1))\n",
    "print(\"Tuple1 Pointer:\", id(my_tuple1))\n",
    "print(\"Set1 Pointer:\", id(my_set1))\n"
   ]
  }
 ],
 "metadata": {
  "kernelspec": {
   "display_name": "Python 3",
   "language": "python",
   "name": "python3"
  },
  "language_info": {
   "codemirror_mode": {
    "name": "ipython",
    "version": 3
   },
   "file_extension": ".py",
   "mimetype": "text/x-python",
   "name": "python",
   "nbconvert_exporter": "python",
   "pygments_lexer": "ipython3",
   "version": "3.12.1"
  }
 },
 "nbformat": 4,
 "nbformat_minor": 2
}
