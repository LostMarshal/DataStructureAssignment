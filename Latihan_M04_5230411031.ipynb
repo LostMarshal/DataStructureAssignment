{
 "cells": [
  {
   "cell_type": "code",
   "execution_count": 12,
   "metadata": {},
   "outputs": [
    {
     "name": "stdout",
     "output_type": "stream",
     "text": [
      "Hasil Pertambahan :  4\n",
      "Hasil Pangkat :  4\n",
      "Apakah anda ingin keluar? (y/n)\n"
     ]
    },
    {
     "ename": "ValueError",
     "evalue": "invalid literal for int() with base 10: 'y'",
     "output_type": "error",
     "traceback": [
      "\u001b[1;31m---------------------------------------------------------------------------\u001b[0m",
      "\u001b[1;31mValueError\u001b[0m                                Traceback (most recent call last)",
      "Cell \u001b[1;32mIn[12], line 15\u001b[0m\n\u001b[0;32m     12\u001b[0m         \u001b[38;5;28;01mreturn\u001b[39;00m result\n\u001b[0;32m     14\u001b[0m \u001b[38;5;28;01mwhile\u001b[39;00m \u001b[38;5;28;01mTrue\u001b[39;00m:\n\u001b[1;32m---> 15\u001b[0m     setBilangan1 \u001b[38;5;241m=\u001b[39m KalkulatorSederhana(\u001b[38;5;28;43mint\u001b[39;49m\u001b[43m(\u001b[49m\u001b[38;5;28;43minput\u001b[39;49m\u001b[43m(\u001b[49m\u001b[38;5;124;43m\"\u001b[39;49m\u001b[38;5;124;43mMasukkan angka pertama: \u001b[39;49m\u001b[38;5;124;43m\"\u001b[39;49m\u001b[43m)\u001b[49m\u001b[43m)\u001b[49m)\n\u001b[0;32m     16\u001b[0m     setBilangan2 \u001b[38;5;241m=\u001b[39m KalkulatorSederhana(\u001b[38;5;28mint\u001b[39m(\u001b[38;5;28minput\u001b[39m(\u001b[38;5;124m\"\u001b[39m\u001b[38;5;124mMasukkan angka kedua: \u001b[39m\u001b[38;5;124m\"\u001b[39m)))\n\u001b[0;32m     17\u001b[0m     \u001b[38;5;28mprint\u001b[39m(\u001b[38;5;124m'\u001b[39m\u001b[38;5;124mHasil Pertambahan : \u001b[39m\u001b[38;5;124m'\u001b[39m, setBilangan1\u001b[38;5;241m.\u001b[39mtambah())\n",
      "\u001b[1;31mValueError\u001b[0m: invalid literal for int() with base 10: 'y'"
     ]
    }
   ],
   "source": [
    "while True:\n",
    "    class KalkulatorSederhana:\n",
    "        def __init__(self, angka1, angka2):\n",
    "            self.angka1 = angka1\n",
    "            self.angka2 = angka2\n",
    "\n",
    "        def tambah(self):\n",
    "            return self.angka1 + self.angka2\n",
    "        \n",
    "        def pangkat(self):\n",
    "            result = 1\n",
    "            for _ in range(self.angka2):\n",
    "                result *= self.angka1\n",
    "            return result\n",
    "\n",
    "\n",
    "    setBilangan1 = int(input(\"Masukkan angka pertama: \"))\n",
    "    setBilangan2 = int(input(\"Masukkan angka kedua: \"))\n",
    "    KalkulatorSederhana = KalkulatorSederhana(setBilangan1, setBilangan2)\n",
    "    print('Hasil Pertambahan : ', KalkulatorSederhana.tambah())\n",
    "    print('Hasil Pangkat : ', KalkulatorSederhana.pangkat())\n",
    "    print('Apakah anda ingin keluar? (y/n)')\n",
    "    keluar = input()\n",
    "    if keluar == 'y':\n",
    "        break\n",
    "    else:\n",
    "        continue"
   ]
  }
 ],
 "metadata": {
  "kernelspec": {
   "display_name": "Python 3",
   "language": "python",
   "name": "python3"
  },
  "language_info": {
   "codemirror_mode": {
    "name": "ipython",
    "version": 3
   },
   "file_extension": ".py",
   "mimetype": "text/x-python",
   "name": "python",
   "nbconvert_exporter": "python",
   "pygments_lexer": "ipython3",
   "version": "3.12.1"
  }
 },
 "nbformat": 4,
 "nbformat_minor": 2
}
