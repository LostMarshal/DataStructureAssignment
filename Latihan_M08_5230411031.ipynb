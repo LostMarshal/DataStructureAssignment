{
  "cells": [
    {
      "cell_type": "markdown",
      "metadata": {
        "id": "oudwQtxyyTCj"
      },
      "source": [
        "# 2.4 Latihan"
      ]
    },
    {
      "cell_type": "markdown",
      "metadata": {
        "id": "f4s_N5ukyYI_"
      },
      "source": [
        "Max Value"
      ]
    },
    {
      "cell_type": "code",
      "execution_count": null,
      "metadata": {
        "colab": {
          "base_uri": "https://localhost:8080/"
        },
        "id": "3MKEw9AryMcm",
        "outputId": "99b18fa1-95d1-44a8-a9ce-6d5c2b9cae78"
      },
      "outputs": [
        {
          "name": "stdout",
          "output_type": "stream",
          "text": [
            "Maximum Value in Tree: \n",
            "82\n"
          ]
        }
      ],
      "source": [
        "class Node:\n",
        "  def __init__(self, value) :\n",
        "    self.value = value\n",
        "    self.left = None\n",
        "    self.right = None\n",
        "\n",
        "class BinarySearchTree:\n",
        "  def __init__(self):\n",
        "    self.root = None\n",
        "\n",
        "  def insert(self, value):\n",
        "    new_node = Node(value)\n",
        "    if self.root is None:\n",
        "      self.root = new_node\n",
        "      return True\n",
        "    temp = self.root\n",
        "    while (True):\n",
        "      if new_node.value == temp.value:\n",
        "        return False\n",
        "      if new_node.value < temp.value:\n",
        "        if temp.left is None:\n",
        "          temp.left = new_node\n",
        "          return True\n",
        "        temp = temp.left\n",
        "      else:\n",
        "        if temp.right is None:\n",
        "          temp.right = new_node\n",
        "          return True\n",
        "        temp = temp.right\n",
        "\n",
        "  def contains(self,value):\n",
        "    temp = self.root\n",
        "    while (temp is not None):\n",
        "      if value < temp.value:\n",
        "        temp = temp.left\n",
        "      elif value > temp.value:\n",
        "        temp = temp.right\n",
        "      else:\n",
        "        return True\n",
        "    return False\n",
        "\n",
        "  def min_value_node(self, current_node):\n",
        "    while current_node.left is not None:\n",
        "      current_node = current_node.left\n",
        "    return current_node\n",
        "\n",
        "  def max_value_node(self, current_node):\n",
        "    while current_node.right is not None:\n",
        "      current_node = current_node.right\n",
        "    return current_node\n",
        "\n",
        "my_tree = BinarySearchTree()\n",
        "my_tree.insert(47)\n",
        "my_tree.insert(21)\n",
        "my_tree.insert(76)\n",
        "my_tree.insert(18)\n",
        "my_tree.insert(27)\n",
        "my_tree.insert(52)\n",
        "my_tree.insert(82)\n",
        "\n",
        "print('Maximum Value in Tree: ')\n",
        "print(my_tree.max_value_node(my_tree.root).value)"
      ]
    },
    {
      "cell_type": "markdown",
      "metadata": {
        "id": "SaypYbOqyrMC"
      },
      "source": [
        "Average Value"
      ]
    },
    {
      "cell_type": "code",
      "execution_count": 1,
      "metadata": {
        "colab": {
          "base_uri": "https://localhost:8080/"
        },
        "id": "5iRWCY5y0Vhi",
        "outputId": "86681001-87a5-4661-cab7-494872d2b760"
      },
      "outputs": [
        {
          "name": "stdout",
          "output_type": "stream",
          "text": [
            "Average value in Tree:\n",
            "46.142857142857146\n"
          ]
        }
      ],
      "source": [
        "class Node:\n",
        "  def __init__(self, value) :\n",
        "    self.value = value\n",
        "    self.left = None\n",
        "    self.right = None\n",
        "\n",
        "class BinarySearchTree:\n",
        "  def __init__(self):\n",
        "    self.root = None\n",
        "    self.count = 0\n",
        "\n",
        "  def insert(self, value):\n",
        "    new_node = Node(value)\n",
        "    if self.root is None:\n",
        "      self.root = new_node\n",
        "      self.count += 1\n",
        "      return True\n",
        "    temp = self.root\n",
        "    while (True):\n",
        "      if new_node.value == temp.value:\n",
        "        return False\n",
        "      if new_node.value < temp.value:\n",
        "        if temp.left is None:\n",
        "          temp.left = new_node\n",
        "          self.count += 1\n",
        "          return True\n",
        "        temp = temp.left\n",
        "      else:\n",
        "        if temp.right is None:\n",
        "          temp.right = new_node\n",
        "          self.count += 1\n",
        "          return True\n",
        "        temp = temp.right\n",
        "\n",
        "  def contains(self,value):\n",
        "    temp = self.root\n",
        "    while (temp is not None):\n",
        "      if value < temp.value:\n",
        "        temp = temp.left\n",
        "      elif value > temp.value:\n",
        "        temp = temp.right\n",
        "      else:\n",
        "        return True\n",
        "    return False\n",
        "\n",
        "  def min_value_node(self, current_node):\n",
        "    while current_node.left is not None:\n",
        "      current_node = current_node.left\n",
        "    return current_node\n",
        "\n",
        "  def max_value_node(self, current_node):\n",
        "    while current_node.right is not None:\n",
        "      current_node = current_node.right\n",
        "    return current_node\n",
        "\n",
        "  def average_value_node(self, current_node):\n",
        "    if current_node is None:\n",
        "      return 0\n",
        "    return (current_node.value + self.average_value_node(current_node.left) + self.average_value_node(current_node.right))\n",
        "\n",
        "my_tree = BinarySearchTree()\n",
        "my_tree.insert(47)\n",
        "my_tree.insert(21)\n",
        "my_tree.insert(76)\n",
        "my_tree.insert(18)\n",
        "my_tree.insert(27)\n",
        "my_tree.insert(52)\n",
        "my_tree.insert(82)\n",
        "\n",
        "print('Average value in Tree:')\n",
        "print(my_tree.average_value_node(my_tree.root) / my_tree.count)\n"
      ]
    },
    {
      "cell_type": "markdown",
      "metadata": {
        "id": "si0yYGpL4dyh"
      },
      "source": [
        "Standard Deviation"
      ]
    },
    {
      "cell_type": "code",
      "execution_count": 2,
      "metadata": {
        "id": "exfa8aezywkH"
      },
      "outputs": [
        {
          "name": "stdout",
          "output_type": "stream",
          "text": [
            "Standard Deviation in Tree:\n",
            "23.913108009915348\n"
          ]
        }
      ],
      "source": [
        "class Node:\n",
        "  def __init__(self, value) :\n",
        "    self.value = value\n",
        "    self.left = None\n",
        "    self.right = None\n",
        "\n",
        "class BinarySearchTree:\n",
        "  def __init__(self):\n",
        "    self.root = None\n",
        "    self.count = 0\n",
        "\n",
        "  def insert(self, value):\n",
        "    new_node = Node(value)\n",
        "    if self.root is None:\n",
        "      self.root = new_node\n",
        "      self.count += 1\n",
        "      return True\n",
        "    temp = self.root\n",
        "    while (True):\n",
        "      if new_node.value == temp.value:\n",
        "        return False\n",
        "      if new_node.value < temp.value:\n",
        "        if temp.left is None:\n",
        "          temp.left = new_node\n",
        "          self.count += 1\n",
        "          return True\n",
        "        temp = temp.left\n",
        "      else:\n",
        "        if temp.right is None:\n",
        "          temp.right = new_node\n",
        "          self.count += 1\n",
        "          return True\n",
        "        temp = temp.right\n",
        "\n",
        "  def contains(self,value):\n",
        "    temp = self.root\n",
        "    while (temp is not None):\n",
        "      if value < temp.value:\n",
        "        temp = temp.left\n",
        "      elif value > temp.value:\n",
        "        temp = temp.right\n",
        "      else:\n",
        "        return True\n",
        "    return False\n",
        "\n",
        "  def min_value_node(self, current_node):\n",
        "    while current_node.left is not None:\n",
        "      current_node = current_node.left\n",
        "    return current_node\n",
        "\n",
        "  def max_value_node(self, current_node):\n",
        "    while current_node.right is not None:\n",
        "      current_node = current_node.right\n",
        "    return current_node\n",
        "\n",
        "  def average_value_node(self, current_node):\n",
        "    if current_node is None:\n",
        "      return 0\n",
        "    return (current_node.value + self.average_value_node(current_node.left) + self.average_value_node(current_node.right))\n",
        "\n",
        "  def standard_deviation(self, current_node, mean):\n",
        "    if current_node is None:\n",
        "      return 0\n",
        "    return ((current_node.value - mean) ** 2 + self.standard_deviation(current_node.left, mean) + self.standard_deviation(current_node.right, mean))\n",
        "\n",
        "my_tree = BinarySearchTree()\n",
        "my_tree.insert(47)\n",
        "my_tree.insert(21)\n",
        "my_tree.insert(76)\n",
        "my_tree.insert(18)\n",
        "my_tree.insert(27)\n",
        "my_tree.insert(52)\n",
        "my_tree.insert(82)\n",
        "\n",
        "print('Standard Deviation in Tree:')\n",
        "print((my_tree.standard_deviation(my_tree.root, my_tree.average_value_node(my_tree.root) / my_tree.count) / my_tree.count) ** 0.5)"
      ]
    }
  ],
  "metadata": {
    "colab": {
      "provenance": []
    },
    "kernelspec": {
      "display_name": "Python 3",
      "name": "python3"
    },
    "language_info": {
      "codemirror_mode": {
        "name": "ipython",
        "version": 3
      },
      "file_extension": ".py",
      "mimetype": "text/x-python",
      "name": "python",
      "nbconvert_exporter": "python",
      "pygments_lexer": "ipython3",
      "version": "3.12.1"
    }
  },
  "nbformat": 4,
  "nbformat_minor": 0
}
