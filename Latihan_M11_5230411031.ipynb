{
 "cells": [
  {
   "cell_type": "markdown",
   "metadata": {},
   "source": [
    "# 12.4 Latihan"
   ]
  },
  {
   "cell_type": "code",
   "execution_count": 1,
   "metadata": {},
   "outputs": [
    {
     "name": "stdout",
     "output_type": "stream",
     "text": [
      "[6, 5, 4, 3, 2, 1]\n"
     ]
    }
   ],
   "source": [
    "def descend_bubble_sort(my_list):\n",
    "    for i in range(len(my_list) - 1, 0, -1):\n",
    "        for j in range(i):\n",
    "            if my_list[j] < my_list[j + 1]:\n",
    "                temp = my_list[j]\n",
    "                my_list[j] = my_list[j + 1]\n",
    "                my_list[j + 1] = temp\n",
    "    return my_list\n",
    "\n",
    "print(descend_bubble_sort([4, 2, 6, 5, 1, 3]))"
   ]
  },
  {
   "cell_type": "code",
   "execution_count": 2,
   "metadata": {},
   "outputs": [
    {
     "name": "stdout",
     "output_type": "stream",
     "text": [
      "[6, 5, 4, 3, 2, 1]\n"
     ]
    }
   ],
   "source": [
    "def descend_selection_sort(my_list):\n",
    "    for i in range(len(my_list)-1):\n",
    "        max_index = i\n",
    "        for j in range(i + 1, len(my_list)):\n",
    "            if my_list[j] > my_list[max_index]:\n",
    "                max_index = j\n",
    "        if max_index != i:\n",
    "            temp = my_list[i]\n",
    "            my_list[i] = my_list[max_index]\n",
    "            my_list[max_index] = temp\n",
    "    return my_list\n",
    "\n",
    "print(descend_selection_sort([4, 2, 6, 5, 1, 3]))"
   ]
  },
  {
   "cell_type": "code",
   "execution_count": 3,
   "metadata": {},
   "outputs": [
    {
     "name": "stdout",
     "output_type": "stream",
     "text": [
      "[1, 5, 3, 4, 2, 6]\n"
     ]
    }
   ],
   "source": [
    "def descend_insertion_sort(my_list):\n",
    "    for i in range(1, len(my_list)):\n",
    "        temp = my_list[i]\n",
    "        j = i - 1\n",
    "        while temp > my_list[j] and j >= -1:\n",
    "            my_list[j + 1] = my_list[j]\n",
    "            my_list[j] = temp\n",
    "            j -= 1\n",
    "    return my_list\n",
    "\n",
    "print(descend_insertion_sort([4, 2, 6, 5, 1, 3]))"
   ]
  }
 ],
 "metadata": {
  "kernelspec": {
   "display_name": "Python 3",
   "language": "python",
   "name": "python3"
  },
  "language_info": {
   "codemirror_mode": {
    "name": "ipython",
    "version": 3
   },
   "file_extension": ".py",
   "mimetype": "text/x-python",
   "name": "python",
   "nbconvert_exporter": "python",
   "pygments_lexer": "ipython3",
   "version": "3.12.1"
  }
 },
 "nbformat": 4,
 "nbformat_minor": 2
}
